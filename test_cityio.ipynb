{
 "cells": [
  {
   "cell_type": "code",
   "execution_count": 1,
   "id": "74b138f9-5e98-4aa3-b0c0-53f61afe9dea",
   "metadata": {},
   "outputs": [],
   "source": [
    "import requests\n",
    "import json"
   ]
  },
  {
   "cell_type": "markdown",
   "id": "c155e8e1-0dfc-43f2-a22b-4322f7d94c0a",
   "metadata": {},
   "source": [
    "Run cityIO_lite.py in terminal before using test notebook"
   ]
  },
  {
   "cell_type": "code",
   "execution_count": 2,
   "id": "db1a94db-054c-4187-8f90-f75c2d0d40b2",
   "metadata": {},
   "outputs": [],
   "source": [
    "host='http://127.0.0.1:5000/'"
   ]
  },
  {
   "cell_type": "code",
   "execution_count": 3,
   "id": "790dadc2-fa99-435a-915f-4caec8576603",
   "metadata": {},
   "outputs": [],
   "source": [
    "table_name='volpe'"
   ]
  },
  {
   "cell_type": "markdown",
   "id": "555610b9-d00e-44bc-b6bc-526f569fe6e4",
   "metadata": {},
   "source": [
    "# Get Request"
   ]
  },
  {
   "cell_type": "markdown",
   "id": "53c35ba8-33d4-47e0-9981-61704dd9c25a",
   "metadata": {},
   "source": [
    "### Top level field"
   ]
  },
  {
   "cell_type": "code",
   "execution_count": 4,
   "id": "cda9911c-1a43-4c48-ace2-f55b23809b75",
   "metadata": {},
   "outputs": [
    {
     "data": {
      "text/plain": [
       "<Response [200]>"
      ]
     },
     "execution_count": 4,
     "metadata": {},
     "output_type": "execute_result"
    }
   ],
   "source": [
    "headers = {'Content-Type': 'application/json'}\n",
    "url=host+'api/table/{}'.format(table_name)\n",
    "r = requests.get(url+'/GEOGRID', headers=headers)\n",
    "r"
   ]
  },
  {
   "cell_type": "code",
   "execution_count": 5,
   "id": "ccb80d5e-4611-4bed-849d-2538312ccc55",
   "metadata": {},
   "outputs": [],
   "source": [
    "geogrid=r.json()"
   ]
  },
  {
   "cell_type": "code",
   "execution_count": 6,
   "id": "fa901ff2-4fdf-4f47-90a4-d4804530f101",
   "metadata": {},
   "outputs": [
    {
     "data": {
      "text/plain": [
       "dict_keys(['bbox', 'features', 'properties', 'type'])"
      ]
     },
     "execution_count": 6,
     "metadata": {},
     "output_type": "execute_result"
    }
   ],
   "source": [
    "geogrid.keys()"
   ]
  },
  {
   "cell_type": "markdown",
   "id": "9a3e9b6f-65a2-4114-9f6f-a364b6ce6868",
   "metadata": {},
   "source": [
    "Agnostic to headers and trailing slashes"
   ]
  },
  {
   "cell_type": "code",
   "execution_count": 7,
   "id": "3913d7f0-908f-4c32-81a0-35685b9b27fa",
   "metadata": {},
   "outputs": [
    {
     "data": {
      "text/plain": [
       "<Response [200]>"
      ]
     },
     "execution_count": 7,
     "metadata": {},
     "output_type": "execute_result"
    }
   ],
   "source": [
    "r = requests.get(url+'/GEOGRID/')\n",
    "r"
   ]
  },
  {
   "cell_type": "markdown",
   "id": "9a4bd594-a08f-46a7-8c44-75fc775efb10",
   "metadata": {},
   "source": [
    "### Sub-field"
   ]
  },
  {
   "cell_type": "code",
   "execution_count": 8,
   "id": "28293873-2589-4119-b6d9-58b81f90f208",
   "metadata": {},
   "outputs": [
    {
     "data": {
      "text/plain": [
       "<Response [200]>"
      ]
     },
     "execution_count": 8,
     "metadata": {},
     "output_type": "execute_result"
    }
   ],
   "source": [
    "r = requests.get(url+'/GEOGRID/properties')\n",
    "r"
   ]
  },
  {
   "cell_type": "code",
   "execution_count": 9,
   "id": "27f4e65f-989e-4070-bb3a-91221182bee3",
   "metadata": {},
   "outputs": [
    {
     "data": {
      "text/plain": [
       "{'geogrid_to_tui_mapping': {},\n",
       " 'header': {'cellSize': 10,\n",
       "  'latitude': 42.366902,\n",
       "  'longitude': -71.088,\n",
       "  'ncols': 50,\n",
       "  'nrows': 50,\n",
       "  'projection': '+proj=lcc +lat_1=42.68333333333333 +lat_2=41.71666666666667 +lat_0=41 +lon_0=-71.5 +x_0=200000 +y_0=750000 +ellps=GRS80 +datum=NAD83 +units=m +no_def',\n",
       "  'rotation': 0,\n",
       "  'tableName': 'volpe_rd',\n",
       "  'tz': -4.0},\n",
       " 'types': {'Charitable/Religious': {'color': '#6a3d9a',\n",
       "   'height': [10],\n",
       "   'interactive': 'Web'},\n",
       "  'Commercial': {'color': '#fdbf6f', 'height': [10], 'interactive': 'Web'},\n",
       "  'Education': {'color': '#a6cee3', 'height': [10], 'interactive': 'Web'},\n",
       "  'Government Operations': {'color': '#fb9a99',\n",
       "   'height': [10],\n",
       "   'interactive': 'Web'},\n",
       "  'Health': {'color': '#ffff99', 'height': [10], 'interactive': 'Web'},\n",
       "  'Industrial': {'color': '#ff7f00', 'height': [10], 'interactive': 'Web'},\n",
       "  'Office': {'color': '#e31a1c', 'height': [10], 'interactive': 'Web'},\n",
       "  'Office/R&D': {'color': '#33a02c', 'height': [10], 'interactive': 'Web'},\n",
       "  'Open Space': {'color': '#cab2d6', 'height': [10], 'interactive': 'Web'},\n",
       "  'Residential': {'color': '#1f78b4', 'height': [10], 'interactive': 'Web'},\n",
       "  'Utility': {'color': '#b2df8a', 'height': [10], 'interactive': 'Web'}}}"
      ]
     },
     "execution_count": 9,
     "metadata": {},
     "output_type": "execute_result"
    }
   ],
   "source": [
    "properties=r.json()\n",
    "properties"
   ]
  },
  {
   "cell_type": "markdown",
   "id": "1bb5adae-e3c3-4ee2-8771-db4f93dae3d9",
   "metadata": {},
   "source": [
    "# Post Request to existing field"
   ]
  },
  {
   "cell_type": "code",
   "execution_count": 10,
   "id": "96b2f56c-c833-4da7-952c-ee1b9cb4c0fe",
   "metadata": {},
   "outputs": [],
   "source": [
    "geogrid['properties']['types']={\n",
    "    'Commercial': {'color': '#fdbf6f', 'height': [10], 'interactive': 'Web'},\n",
    "    'Education': {'color': '#a6cee3', 'height': [10], 'interactive': 'Web'}}"
   ]
  },
  {
   "cell_type": "code",
   "execution_count": 11,
   "id": "2e4571c9-d62d-4e37-8688-834d83dc8555",
   "metadata": {},
   "outputs": [
    {
     "data": {
      "text/plain": [
       "<Response [200]>"
      ]
     },
     "execution_count": 11,
     "metadata": {},
     "output_type": "execute_result"
    }
   ],
   "source": [
    "r = requests.post(url+'/GEOGRID', data=json.dumps(geogrid))\n",
    "r"
   ]
  },
  {
   "cell_type": "markdown",
   "id": "ab3db9ed-0af8-4a57-a8f1-f6c615df9332",
   "metadata": {},
   "source": [
    "# Get (updated) sub-sub-field"
   ]
  },
  {
   "cell_type": "code",
   "execution_count": 12,
   "id": "3103771b-8efd-443a-a88b-f4c02944e91c",
   "metadata": {},
   "outputs": [
    {
     "data": {
      "text/plain": [
       "<Response [200]>"
      ]
     },
     "execution_count": 12,
     "metadata": {},
     "output_type": "execute_result"
    }
   ],
   "source": [
    "r = requests.get(url+'/GEOGRID/properties/types/')\n",
    "r"
   ]
  },
  {
   "cell_type": "code",
   "execution_count": 13,
   "id": "fd7428d1-fcb1-4c79-9c25-f4cbb971a79d",
   "metadata": {},
   "outputs": [
    {
     "data": {
      "text/plain": [
       "{'Commercial': {'color': '#fdbf6f', 'height': [10], 'interactive': 'Web'},\n",
       " 'Education': {'color': '#a6cee3', 'height': [10], 'interactive': 'Web'}}"
      ]
     },
     "execution_count": 13,
     "metadata": {},
     "output_type": "execute_result"
    }
   ],
   "source": [
    "r.json()"
   ]
  },
  {
   "cell_type": "markdown",
   "id": "8f5ebfec-2d1f-4295-8e98-f6369b42bdd0",
   "metadata": {},
   "source": [
    "# Reset all data to the base json files"
   ]
  },
  {
   "cell_type": "code",
   "execution_count": 14,
   "id": "22cd2dc4-86a0-4598-b61b-a85295e9a283",
   "metadata": {},
   "outputs": [
    {
     "data": {
      "text/plain": [
       "<Response [200]>"
      ]
     },
     "execution_count": 14,
     "metadata": {},
     "output_type": "execute_result"
    }
   ],
   "source": [
    "r = requests.post(host+'api/tables/reload/')\n",
    "r"
   ]
  },
  {
   "cell_type": "markdown",
   "id": "71aac675-24ea-4fbe-9fe7-44bae7b1d1eb",
   "metadata": {},
   "source": [
    "Check data has reset"
   ]
  },
  {
   "cell_type": "code",
   "execution_count": 16,
   "id": "d1099c2a-c327-4964-9e8b-248140929765",
   "metadata": {},
   "outputs": [
    {
     "data": {
      "text/plain": [
       "{'Charitable/Religious': {'color': '#6a3d9a',\n",
       "  'height': [10],\n",
       "  'interactive': 'Web'},\n",
       " 'Commercial': {'color': '#fdbf6f', 'height': [10], 'interactive': 'Web'},\n",
       " 'Education': {'color': '#a6cee3', 'height': [10], 'interactive': 'Web'},\n",
       " 'Government Operations': {'color': '#fb9a99',\n",
       "  'height': [10],\n",
       "  'interactive': 'Web'},\n",
       " 'Health': {'color': '#ffff99', 'height': [10], 'interactive': 'Web'},\n",
       " 'Industrial': {'color': '#ff7f00', 'height': [10], 'interactive': 'Web'},\n",
       " 'Office': {'color': '#e31a1c', 'height': [10], 'interactive': 'Web'},\n",
       " 'Office/R&D': {'color': '#33a02c', 'height': [10], 'interactive': 'Web'},\n",
       " 'Open Space': {'color': '#cab2d6', 'height': [10], 'interactive': 'Web'},\n",
       " 'Residential': {'color': '#1f78b4', 'height': [10], 'interactive': 'Web'},\n",
       " 'Utility': {'color': '#b2df8a', 'height': [10], 'interactive': 'Web'}}"
      ]
     },
     "execution_count": 16,
     "metadata": {},
     "output_type": "execute_result"
    }
   ],
   "source": [
    "r = requests.get(url+'/GEOGRID/properties/types/')\n",
    "r.json()"
   ]
  },
  {
   "cell_type": "markdown",
   "id": "58550552-02ff-47e9-9605-cce269cd3549",
   "metadata": {},
   "source": [
    "# Post Request to new field"
   ]
  },
  {
   "cell_type": "code",
   "execution_count": 17,
   "id": "18a2e0b0-38bb-413f-b311-f90ea96d3cd9",
   "metadata": {},
   "outputs": [
    {
     "data": {
      "text/plain": [
       "<Response [200]>"
      ]
     },
     "execution_count": 17,
     "metadata": {},
     "output_type": "execute_result"
    }
   ],
   "source": [
    "test_data={'foo': 'bar'}\n",
    "r = requests.post(url+'/test/', data=json.dumps(test_data))\n",
    "r"
   ]
  },
  {
   "cell_type": "code",
   "execution_count": 18,
   "id": "ab2830e8-57f8-41b8-937f-57c570b669ed",
   "metadata": {},
   "outputs": [
    {
     "data": {
      "text/plain": [
       "<Response [200]>"
      ]
     },
     "execution_count": 18,
     "metadata": {},
     "output_type": "execute_result"
    }
   ],
   "source": [
    "r = requests.get(url+'/test')\n",
    "r"
   ]
  },
  {
   "cell_type": "code",
   "execution_count": 19,
   "id": "db542eb9-528c-4231-b16b-ef125184f4f7",
   "metadata": {},
   "outputs": [
    {
     "data": {
      "text/plain": [
       "{'foo': 'bar'}"
      ]
     },
     "execution_count": 19,
     "metadata": {},
     "output_type": "execute_result"
    }
   ],
   "source": [
    "r.json()"
   ]
  },
  {
   "cell_type": "markdown",
   "id": "e0e7d607-b197-4b20-b4b4-7b3160cfa49c",
   "metadata": {},
   "source": [
    "# Test updating of hashes"
   ]
  },
  {
   "cell_type": "code",
   "execution_count": 20,
   "id": "fe689686-096d-44f8-84e5-f0cba1dcf819",
   "metadata": {},
   "outputs": [
    {
     "data": {
      "text/plain": [
       "<Response [200]>"
      ]
     },
     "execution_count": 20,
     "metadata": {},
     "output_type": "execute_result"
    }
   ],
   "source": [
    "r = requests.post(url+'/indicators', data=json.dumps({'bar': 'foo'}))\n",
    "r"
   ]
  },
  {
   "cell_type": "code",
   "execution_count": 21,
   "id": "360e6051-5a7d-4a12-9184-d17d7d178ed8",
   "metadata": {},
   "outputs": [
    {
     "data": {
      "text/plain": [
       "<Response [200]>"
      ]
     },
     "execution_count": 21,
     "metadata": {},
     "output_type": "execute_result"
    }
   ],
   "source": [
    "r = requests.get(url+'/meta')\n",
    "r"
   ]
  },
  {
   "cell_type": "code",
   "execution_count": 22,
   "id": "b53ce223-ae22-48bc-a09a-380042e29390",
   "metadata": {},
   "outputs": [
    {
     "data": {
      "text/plain": [
       "{'hashes': {'GEOGRID': 'BhNuBBcDBa4mZUCU8AH2Sf7Ju3bAoBhmp1bS3ye454HA',\n",
       "  'GEOGRIDDATA': 'ioufzwttq7eExraooRyqqjoz6JmLdkGMkLVYBwFuNZS',\n",
       "  'access': '8pMX5iwgcaGeeKsgQEUW7danTkVQqsMtK4vKrTzN1C3U',\n",
       "  'geojson': '9E9eSB6ZC6JGCTqNEZcp6Jzu8zSfkMx9Lg3bmyQ7CozK',\n",
       "  'indicators': 'ac1b048809f4d5280134e135169164da796a11d3497cc8d128e5e417',\n",
       "  'test': 'e14009403e5e6cfa75e70bb7beb787084f62ec5389de3629b2fc519a',\n",
       "  'textual': '8pMX5iwgcaGeeKsgQEUW7danTkVQqsMtK4vKrTzN1C3U'},\n",
       " 'id': '66a8f7da6dbb6e07bae0b5d477c502f28d14ae6b96b00fdf2996036b',\n",
       " 'timestamp': '1662128887.181187'}"
      ]
     },
     "execution_count": 22,
     "metadata": {},
     "output_type": "execute_result"
    }
   ],
   "source": [
    "r.json()"
   ]
  },
  {
   "cell_type": "code",
   "execution_count": 23,
   "id": "a6b824af-34bc-45cc-b038-2fd73c35ab8e",
   "metadata": {},
   "outputs": [
    {
     "data": {
      "text/plain": [
       "<Response [200]>"
      ]
     },
     "execution_count": 23,
     "metadata": {},
     "output_type": "execute_result"
    }
   ],
   "source": [
    "r = requests.post(url+'/indicators', data=json.dumps({'foo': 'bar'}))\n",
    "r"
   ]
  },
  {
   "cell_type": "code",
   "execution_count": 24,
   "id": "f7194e53-21bc-45d5-87c8-eaed18a49b8f",
   "metadata": {},
   "outputs": [
    {
     "data": {
      "text/plain": [
       "<Response [200]>"
      ]
     },
     "execution_count": 24,
     "metadata": {},
     "output_type": "execute_result"
    }
   ],
   "source": [
    "r = requests.get(url+'/meta')\n",
    "r"
   ]
  },
  {
   "cell_type": "code",
   "execution_count": 25,
   "id": "1fd17c68-b7e4-436f-a62a-4aa7b253a9d1",
   "metadata": {},
   "outputs": [
    {
     "data": {
      "text/plain": [
       "{'hashes': {'GEOGRID': 'BhNuBBcDBa4mZUCU8AH2Sf7Ju3bAoBhmp1bS3ye454HA',\n",
       "  'GEOGRIDDATA': 'ioufzwttq7eExraooRyqqjoz6JmLdkGMkLVYBwFuNZS',\n",
       "  'access': '8pMX5iwgcaGeeKsgQEUW7danTkVQqsMtK4vKrTzN1C3U',\n",
       "  'geojson': '9E9eSB6ZC6JGCTqNEZcp6Jzu8zSfkMx9Lg3bmyQ7CozK',\n",
       "  'indicators': 'e14009403e5e6cfa75e70bb7beb787084f62ec5389de3629b2fc519a',\n",
       "  'test': 'e14009403e5e6cfa75e70bb7beb787084f62ec5389de3629b2fc519a',\n",
       "  'textual': '8pMX5iwgcaGeeKsgQEUW7danTkVQqsMtK4vKrTzN1C3U'},\n",
       " 'id': 'a54eb2ff50d4935c151d3d9d6225a5c65b9c75255071bce16efe6be8',\n",
       " 'timestamp': '1662128888.513677'}"
      ]
     },
     "execution_count": 25,
     "metadata": {},
     "output_type": "execute_result"
    }
   ],
   "source": [
    "r.json()"
   ]
  },
  {
   "cell_type": "code",
   "execution_count": null,
   "id": "783a5966-6b61-48b5-90ce-682ffb264a4d",
   "metadata": {},
   "outputs": [],
   "source": []
  }
 ],
 "metadata": {
  "kernelspec": {
   "display_name": "Python 3",
   "language": "python",
   "name": "python3"
  },
  "language_info": {
   "codemirror_mode": {
    "name": "ipython",
    "version": 3
   },
   "file_extension": ".py",
   "mimetype": "text/x-python",
   "name": "python",
   "nbconvert_exporter": "python",
   "pygments_lexer": "ipython3",
   "version": "3.8.8"
  },
  "vscode": {
   "interpreter": {
    "hash": "3c658b6c5b677841ad3a7ef569137c490e99ffd165619659d88b6b09a9230b48"
   }
  }
 },
 "nbformat": 4,
 "nbformat_minor": 5
}
